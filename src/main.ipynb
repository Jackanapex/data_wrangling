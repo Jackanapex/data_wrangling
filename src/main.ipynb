{
 "cells": [
  {
   "cell_type": "code",
   "execution_count": 2,
   "metadata": {},
   "outputs": [],
   "source": [
    "# Import the required libraries for webscraping\n",
    "from bs4 import BeautifulSoup\n",
    "import requests\n",
    "import re\n",
    "# Import requried utility libraries\n",
    "import os"
   ]
  },
  {
   "cell_type": "markdown",
   "metadata": {},
   "source": [
    "### Get urls from the input folder.\n",
    "It is assumed that the input folder is at the same level with src, and the file holding the urls is called from_urls. Also it is assumed that the urls are stored and separated by newlines in the input file.\\\n",
    "It is also assumed that only the first two lines of the input file will be valid URLs. No verificiation is carried out for the input data as it is outside the assignment scope\n"
   ]
  },
  {
   "cell_type": "code",
   "execution_count": null,
   "metadata": {},
   "outputs": [],
   "source": [
    "# Initialize the url list\n",
    "url_dict = {\n",
    "    'season_126': '',\n",
    "    'season_womens_seven': ''\n",
    "}\n",
    "\n",
    "# Define the import file path\n",
    "INPUT_FILE_NAME = 'from_urls'\n",
    "\n",
    "url_file_fn = os.path.join(\n",
    "    os.path.abspath('..'), \n",
    "    'input',\n",
    "    INPUT_FILE_NAME\n",
    ")\n",
    "\n",
    "# Open the file and read the urls into the url list\n",
    "url_file = open(url_file_fn, 'r')\n",
    "for k, v in url_dict.items():\n",
    "    line = url_file.readline()\n",
    "    if line:\n",
    "        url_dict[k] = line.strip()\n",
    "    else:\n",
    "        pass\n",
    "url_file.close()"
   ]
  },
  {
   "cell_type": "markdown",
   "metadata": {},
   "source": [
    "### Request data from Wikipedia for AFL Season 126 and AFL Women's Season Seven\n",
    "The raw data will also be saved into a dictionary of two BeautifulSoup objects"
   ]
  },
  {
   "cell_type": "code",
   "execution_count": null,
   "metadata": {},
   "outputs": [],
   "source": [
    "# Initialize the BeautifulSoup object dictionary\n",
    "bs_dict = {\n",
    "    'season_126': None,\n",
    "    'season_womens_seven': None\n",
    "}\n",
    "\n",
    "# Iterate through url_dict and save the BeautifulSoup object to bs_dict\n",
    "for k, v in url_dict.items():\n",
    "    response = requests.get(v)\n",
    "    html = response.text\n",
    "    bs_dict[k] = BeautifulSoup(html, 'html.parser')\n",
    "    response.close()\n",
    "\n",
    "bs_dict"
   ]
  },
  {
   "cell_type": "markdown",
   "metadata": {},
   "source": [
    "### Extract from the BeautifuleSoup objects for the tables under \"Home-and-away season\""
   ]
  },
  {
   "cell_type": "code",
   "execution_count": 16,
   "metadata": {},
   "outputs": [],
   "source": [
    "# TO-DO: Iterate through the BeautifulSoup object and extract all the tables under \n",
    "# body -> div class mw-page-container -> div class mw-content-container\n",
    "# -> div class vector-body ve-init-mw-desktopArticleTarget-targetContainer\n",
    "# -> div class mw-body-content mw-content-ltr\n",
    "# -> div class mw-parser-output -> ALL non-\"wikitable\" class tables\n",
    "# Hint: RegEx might be used to filter out the \"wikitable\" class tables\n",
    "# and all these tables objects can be saved to a list\n",
    "\n",
    "match_list = ['foo']*100"
   ]
  },
  {
   "cell_type": "markdown",
   "metadata": {},
   "source": [
    "### Extract the information from the match_list and save to a list of strings"
   ]
  },
  {
   "cell_type": "code",
   "execution_count": 17,
   "metadata": {},
   "outputs": [],
   "source": [
    "# TO-DO: iterate through the match_list and extract the following information\n",
    "\"\"\"\n",
    "Round Number (example: \"1\")\n",
    "Day of the game (example: \"Friday\")\n",
    "Date of the game (example: \"19-Aug\")\n",
    "Time of the game (example: \"7:50 pm\")\n",
    "First team name (example: \"Brisbane Lions\")\n",
    "First team score in points only (example: \"57\")\n",
    "First team win status (either \"def. by\" or \"def.\")\n",
    "Second team name (example: \"Melbourne\")\n",
    "Second team score in points only (example: \"115\")\n",
    "Game location (example: \"The Gabba\")\n",
    "Stadium Attendees (example: \"32172\")\n",
    "\"\"\"\n",
    "# then save them to a list of strings, separated by comma\n",
    "# each match should be a new line\n",
    "COLUMN_NAMES = ','.join([\n",
    "    'Round Number',\n",
    "    'Day of the game',\n",
    "    'Date of the game',\n",
    "    'Time of the game',\n",
    "    'First team name',\n",
    "    'First team score in points only',\n",
    "    'First team win status',\n",
    "    'Second team name',\n",
    "    'Second team score in points only',\n",
    "    'Game location',\n",
    "    'Stadium Attendees'\n",
    "])\n",
    "result_list = [COLUMN_NAMES]\n",
    "\n",
    "for match in match_list:\n",
    "    result_str = 'bar'\n",
    "    result_list.append(result_str)"
   ]
  },
  {
   "cell_type": "markdown",
   "metadata": {},
   "source": [
    "### Save the result to a csv output\n",
    "It is assumed that the output folder is at the same level as the src folder \\\n",
    "It is also assumed that a csv file output named scraped_match_table.csv file will exist and contain the result \\\n",
    "The file will be overwritten regardless of its existing contents and no verification of existence will be carried out\\\n",
    "since it is outside the assignment scope"
   ]
  },
  {
   "cell_type": "code",
   "execution_count": 18,
   "metadata": {},
   "outputs": [],
   "source": [
    "# Define the output file path\n",
    "OUTPUT_FILE_NAME = 'scraped_match_table.csv'\n",
    "scraped_match_table_fn = os.path.join(\n",
    "    os.path.abspath('..'), \n",
    "    'output',\n",
    "    OUTPUT_FILE_NAME\n",
    ")\n",
    "\n",
    "# Write the result_list to the output file\n",
    "result_file = open(scraped_match_table_fn, 'w')\n",
    "for result_str in result_list:\n",
    "    result_file.write(f\"{result_str}\\n\")\n",
    "result_file.close()"
   ]
  }
 ],
 "metadata": {
  "kernelspec": {
   "display_name": "venv",
   "language": "python",
   "name": "python3"
  },
  "language_info": {
   "codemirror_mode": {
    "name": "ipython",
    "version": 3
   },
   "file_extension": ".py",
   "mimetype": "text/x-python",
   "name": "python",
   "nbconvert_exporter": "python",
   "pygments_lexer": "ipython3",
   "version": "3.8.10"
  },
  "orig_nbformat": 4
 },
 "nbformat": 4,
 "nbformat_minor": 2
}
